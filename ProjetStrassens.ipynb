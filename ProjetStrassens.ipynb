{
 "cells": [
  {
   "cell_type": "markdown",
   "metadata": {},
   "source": [
    "# Projet Strassens"
   ]
  },
  {
   "cell_type": "markdown",
   "metadata": {},
   "source": [
    "### Combien de multiplications sont nécessaires pour calculer tous les coefficients c<sub>ij</sub> par la définition du produit matriciel vue en cours ?\n",
    "Pour la formule normale, il faut 8 multiplications.\n",
    "\n",
    "### Vérifier qu’on retrouve la matrice C \n",
    "\n",
    "### Conclure que les formules de Strassen permettent de calculer le produit A × B. Qu’a-t-on gagné en nombre de multiplications ?\n",
    "\n",
    "### Calculer par blocs, en détatillant vos calculs, C = A×B où A et B sont les matrices de taille 4 × 4...\n",
    "\n",
    "### Écrire les formules de Strassen par blocs et vérifier qu’elles permettent de calculer C\n",
    "\n",
    "### Montrer que si on applique les formules de Strassen on a u<sub>k</sub> = 7u<sub>k−1</sub>.\n",
    "\n",
    "### Toujours en utilisant la méthode de Strassen, que vaut u<sub>1</sub> ?\n",
    "\n",
    "### En déduire qu’il faut uk = 7k multiplications pour réaliser le produit de deux matrices de taille 2k × 2k\n",
    "\n",
    "### Posons n = 2k et montrer que...\n",
    "\n",
    "### Si on applique la méthode classique vue en cours pour calculer le produit de deux matrices A × B de taille n × n combien de multiplications en fonction de n sont nécessaires ?\n",
    "\n",
    "### Application numérique : pour multiplier deux matrices de taille 128 × 128 combien de multiplications économise-t-on en utilisant les formules de Strassen à la place du calcul classique ?"
   ]
  },
  {
   "cell_type": "markdown",
   "metadata": {},
   "source": [
    "## Implementation"
   ]
  },
  {
   "cell_type": "code",
   "execution_count": null,
   "metadata": {},
   "outputs": [],
   "source": [
    "# coding=utf-8\n",
    "import numpy as np\n",
    "import time\n",
    "\n",
    "def inputNumber(message):\n",
    "  while True:\n",
    "    try:\n",
    "       userInput = int(input(message))\n",
    "    except ValueError:\n",
    "       print(\"Veuillez entrer un entier\")\n",
    "       continue\n",
    "    else:\n",
    "       return userInput\n",
    "       break\n",
    "k=inputNumber(\"Entrez une taille de matrice (2^k)\");\n",
    "k = 2**k\n",
    "a = []\n",
    "b = []\n",
    "for i in range(k):\n",
    "    a.append(np.random.randint(-9,9,k))\n",
    "    b.append(np.random.randint(-9,9,k))\n",
    "\n",
    "a = np.array(a);\n",
    "b = np.array(b);\n",
    "start = time.perf_counter()\n",
    "end = time.perf_counter()\n",
    "print(f\"L'exécution a pris {end - start:0.4f} secondes\")\n"
   ]
  },
  {
   "cell_type": "markdown",
   "metadata": {},
   "source": [
    "Il existe des algorithmes plus puissants en terme de complexité pour la multiplication de deux matrices (Strassen: O(n<sup>2.807</sup>)):\n",
    "Le coppersmith winograd a une complexité de O(n<sup>2.3737</sup>) tandis qu'un algorithme de Josh Alman atteint une complexité de O(n<sup>2.3728596</sup>) en décembre 2020.\n"
   ]
  },
  {
   "cell_type": "code",
   "execution_count": null,
   "metadata": {},
   "outputs": [],
   "source": []
  }
 ],
 "metadata": {
  "kernelspec": {
   "display_name": "Python 3",
   "language": "python",
   "name": "python3"
  },
  "language_info": {
   "codemirror_mode": {
    "name": "ipython",
    "version": 3
   },
   "file_extension": ".py",
   "mimetype": "text/x-python",
   "name": "python",
   "nbconvert_exporter": "python",
   "pygments_lexer": "ipython3",
   "version": "3.8.5"
  }
 },
 "nbformat": 4,
 "nbformat_minor": 4
}
