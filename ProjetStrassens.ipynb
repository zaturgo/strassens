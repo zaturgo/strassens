{
 "cells": [
  {
   "cell_type": "markdown",
   "metadata": {},
   "source": [
    "**Multiplication des matrices : Algorithme de Strassen**\n",
    "=============================================\n",
    "\n",
    "Le but ce projet est de présenter un algorithme efficace (c'est-à-dire\n",
    "économe en temps de calcul) pour calculer le produit de deux matrices.\n",
    "Lorsqu'on fait calculer à une machine le produit de deux matrices, les\n",
    "multiplications entre les coefficients des matrices coûtent plus de\n",
    "ressources machines que les additions. L'algorithme de Strassen est donc\n",
    "un algorithme qui utilise moins de multiplication que l'algorithme\n",
    "(formule) classique pour le calcul du produit de deux matrices.\n",
    "\n",
    "Algorithme de Strassen (Matrices $2\\times 2$)\n",
    "=============================================\n",
    "\n",
    "Dans cette partie on s'intéresse au nombre de multiplications effectuées\n",
    "lorsqu'on calcule le produit de deux matrices. L'algorithme de Strassen\n",
    "présenté dans cette partie permet de diminuer ce nombre.\n",
    "\n",
    "Soit le produit de deux matrices de taille $2\\times 2$,\n",
    "$$A\\times B=\\begin{pmatrix}\n",
    "a_{11} & a_{12}\\\\\n",
    "a_{21} & a_{22}\n",
    "\\end{pmatrix}\n",
    "\\times\n",
    "\\begin{pmatrix}\n",
    "b_{11} & b_{12}\\\\\n",
    "b_{21} & b_{22}\n",
    "\\end{pmatrix}=\\begin{pmatrix}\n",
    "c_{11} & c_{12} \\\\\n",
    "c_{21} & c_{22}\n",
    " \\end{pmatrix}=C$$\n",
    "\n",
    "1.  Combien de multiplications sont nécessaires pour calculer tous les\n",
    "    coefficients $c_{ij}$ par la définition du produit matriciel vue en\n",
    "    cours ?"
   ]
  },
  {
   "cell_type": "markdown",
   "metadata": {},
   "source": [
    "# À vous.....\n",
    "- _Réponse_\n"
   ]
  },
  {
   "cell_type": "markdown",
   "metadata": {},
   "source": [
    "2.  Considérons les produits suivants :\\\n",
    "    $$\\mbox{(Formules de Strassen) }\\left\\{\\begin{array}{l}\n",
    "    q_1 =(a_{11}-a_{12})b_{22}\\\\\n",
    "    q_2=(a_{21}-a_{22})b_{11}\\\\\n",
    "    q_3=a_{22}(b_{11}+b_{21})\\\\\n",
    "    q_4=a_{11}(b_{12}+b_{22})\\\\\n",
    "    q_5=(a_{11}+a_{22})(b_{22}-b_{11})\\\\\n",
    "    q_6=(a_{11}+a_{21})(b_{11}+b_{12})\\\\\n",
    "    q_7=(a_{12}+a_{22})(b_{21}+b_{22})\n",
    "    \\end{array}\\right.$$\n",
    "\n",
    "    Vérifier qu'on retrouve la matrice $C$ en effectuant les opérations\n",
    "    suivantes :\n",
    "\n",
    "    $$\\begin{array}{c}\n",
    "    c_{11}= q_1-q_3-q_5+q_7\\\\\n",
    "    c_{12}=q_4-q_1\\\\\n",
    "    c_{21}=q_2+q_3\\\\\n",
    "    c_{22}=-q_2-q_4+q_5+q_6\n",
    "    \\end{array}$$"
   ]
  },
  {
   "cell_type": "markdown",
   "metadata": {},
   "source": [
    "# À vous.....\n",
    "- _Réponse_\n"
   ]
  },
  {
   "cell_type": "markdown",
   "metadata": {},
   "source": [
    "3.  Conclure que les formules de Strassen permettent de calculer le\n",
    "    produit $A\\times B$. Qu'a-t-on gagné en nombre de muultiplication ?\n",
    "    "
   ]
  },
  {
   "cell_type": "markdown",
   "metadata": {},
   "source": [
    "# À vous.....\n",
    "- _Réponse_\n"
   ]
  },
  {
   "cell_type": "markdown",
   "metadata": {},
   "source": [
    "Produit matriciel par blocs\n",
    "===========================\n",
    "\n",
    "1.  Produit par blocs: soit $A, B$ deux matrices de tailles $2n\\times 2n$ \n",
    "On peut alors écrire $A$ et $B$ de la façon suivante\n",
    "    $$\n",
    "    A=\\left(\\begin{array}{c|c}\n",
    "     A_{11} & A_{12} \\\\\n",
    "    \\hline\n",
    "    A_{21} & A_{22}\n",
    "             \\end{array}\\right)\n",
    "             \\mbox{ et }\n",
    "     B=\\left(\\begin{array}{c|c}\n",
    "    B_{11} & B_{12} \\\\\n",
    "    \\hline\n",
    "    B_{21} & B_{22}          \n",
    "             \\end{array}\\right).\n",
    "    $$\n",
    "    Les blocs $A_{11},\\dots, B_{22}$ sont\n",
    "    des matrices $n\\times n$.\n",
    "\n",
    "    Le calcul du produit $A\\times B$ peut se faire par blocs à partir\n",
    "    des produits des matrices $A_{ik}\\times B_{kj}$ de la manière\n",
    "    suivante: \n",
    "    $$C=A\\times B=\\left(\\begin{array}{c|c}\n",
    "     C_{11} & C_{12} \\\\\n",
    "    \\hline\n",
    "    C_{21} & C_{22}\\\\\n",
    "    \\end{array}\\right)=\\left(\\begin{array}{c|c}       \n",
    "    A_{11}\\times B_{11}+A_{12}\\times B_{21} & A_{11}\\times B_{12}+A_{12}\\times B_{22}\\\\\n",
    "    \\hline\n",
    "    A_{21}\\times B_{11}+A_{22}\\times B_{21} & A_{21}\\times B_{12}+A_{22}\\times B_{22}\n",
    "    \\end{array}\\right)$$\n",
    "    \n",
    "    Calculer par blocs, en détatillant vos calculs, $C=A\\times B$ où $A$ et $B$\n",
    "    sont les matrices de taille $4\\times 4$ définies par\n",
    "    $$A=\\begin{pmatrix}\n",
    "       1 & 2 & 0 & 1\\\\\n",
    "       3 & 4 & -1 & 1\\\\\n",
    "       1 & 0 & 1 & 2\\\\\n",
    "       0 & 1 & 3 & 4\n",
    "      \\end{pmatrix}, B=\\begin{pmatrix}\n",
    "      1 & -1 & 0& 1\\\\\n",
    "      2 & 0 & 1 & 1\\\\\n",
    "      0 & 1 & 1 & 0\\\\\n",
    "      1 & 0 & 0 & -1\n",
    "       \\end{pmatrix}\n",
    "     $$"
   ]
  },
  {
   "cell_type": "markdown",
   "metadata": {},
   "source": [
    "# À vous.....\n",
    "- _Réponse_\n"
   ]
  },
  {
   "cell_type": "markdown",
   "metadata": {},
   "source": [
    "Algorithme de Strassen (cas général)\n",
    "====================================\n",
    "\n",
    "1.  Soient $A$ et $B$ deux matrices de tailles\n",
    "    $n\\times n=2^k\\times 2^k$. On découpe ces matrices en blocs (les\n",
    "    sous-matrices sont de taille $2^{k-1}\\times 2^{k-1}$) :\n",
    "    \n",
    "    $$\n",
    "    A=\\left(\\begin{array}{c|c}\n",
    "       A_{11} & A_{12} \\\\\n",
    "       \\hline\n",
    "       A_{21} & A_{22}\n",
    "            \\end{array}\n",
    "       \\right) \\mbox{ et }\n",
    "    B=\\left(\\begin{array}{c|c}\n",
    "       B_{11} & B_{12} \\\\\n",
    "       \\hline\n",
    "       B_{21} & B_{22}     \n",
    "            \\end{array}\n",
    "      \\right)\n",
    "    $$\n",
    "    et on note $C=\\left(\\begin{array}{c|c}\n",
    "                       C_{11} & C_{12} \\\\\n",
    "                       \\hline\n",
    "                       C_{21} & C_{22}\n",
    "                       \\end{array}\n",
    "                   \\right)$ le produit $A\\times B$.\n",
    "    \n",
    "    Écrire les formules de Strassen par blocs et vérifier qu'elles\n",
    "    permettent de calculer $C$.\n",
    "\n",
    "2.  Soit $u_k$ le nombre de multiplications nécessaires pour calculer le\n",
    "    produit de deux matrices $A$ et $B$ de tailles $2^k\\times 2^k$.\n",
    "    Montrer que si on applique les formules de Strassen on a\n",
    "    $u_k=7u_{k-1}$.\n",
    "\n",
    "3.  Toujours en utilisant la méthode de Strassen, que vaut $u_1$ ?.\n",
    "\n",
    "4.  En déduire qu'il faut $u_k=7^k$ multiplications pour réaliser le\n",
    "    produit de deux matrices de taille $2^k\\times 2^k$.\n",
    "\n",
    "5.  Posons $n=2^k$ et montrer que\n",
    "    $u_k=n^{\\frac{\\ln(7)}{\\ln(2)}}\\simeq n^{2.81}$ (on pourra poser\n",
    "    $u_k=n^\\alpha$ et chercher à déterminer $\\alpha$).\n",
    "\n",
    "6.  Si on applique la méthode classique vue en cours pour calculer le\n",
    "    produit de deux matrices $A\\times B$ de taille $n\\times n$ combien\n",
    "    de multiplications en fonction de $n$ sont nécessaires ?\n",
    "\n",
    "7.  Application numérique : pour multiplier deux matrices de taille\n",
    "    $128\\times 128$ combien de multiplications économise-t-on en\n",
    "    utilisant les formules de Strassen à la place du calcul classique ?\n",
    "\n",
    "**Remarque :** Le cas général où $A$ et $B$ sont des matrices de tailles\n",
    "$n\\times n$ avec $2^{k-1}<n <2^k$ se résout en complétant les matrices\n",
    "par des zéros de sorte à obtenir deux matrices de tailles\n",
    "$2^k\\times 2^k$."
   ]
  },
  {
   "cell_type": "markdown",
   "metadata": {},
   "source": [
    "# À vous.....\n",
    "- _Réponse_\n"
   ]
  },
  {
   "cell_type": "markdown",
   "metadata": {},
   "source": [
    "Implémentation\n",
    "==============\n",
    "\n",
    "Une fois le principe de l'algorithme établi vous effecturez les taches\n",
    "suivantes:\n",
    "\n",
    "-   Implémenter l'algorithme de Strassen et l'algorithme de\n",
    "    multiplication classique pour effecuter le produit de deux matrices\n",
    "    carré $A$ et $B$,\n",
    "\n",
    "\n",
    "    \n"
   ]
  },
  {
   "cell_type": "markdown",
   "metadata": {},
   "source": [
    " -  Déterminer l'entier $k$ à partir du quel l'algorithme de Strassen\n",
    "    est plus rapide que l'algorithme classique pour calculer le produit\n",
    "    de deux matrices carrés de taille $2^k$ (vous testerez votre\n",
    "    programme en construisant des matrices aléatoires de taille $2^k$).\n"
   ]
  },
  {
   "cell_type": "code",
   "execution_count": 2,
   "metadata": {},
   "outputs": [
    {
     "name": "stdout",
     "output_type": "stream",
     "text": [
      "--------------------------\n",
      "Execution pour matrice de taille 2 (k=1)\n",
      "L'exécution classique a pris 0.000018 secondes\n",
      "----------------------------\n",
      "Strassen est plus rapide à partir de k=1 (matrice de taille 2)\n"
     ]
    }
   ],
   "source": [
    "# coding=utf-8\n",
    "import numpy as np\n",
    "import time\n",
    "def classic(a,b,c,dim):\n",
    "    for i in range(dim):\n",
    "        for j in range(dim):\n",
    "            for k in range(dim):\n",
    "                c[i][j] += a[i][k]*b[k][j]\n",
    "    return c;\n",
    "timeClassic = 0\n",
    "timeStrassen = 1\n",
    "k = 0;\n",
    "while timeClassic<timeStrassen:\n",
    "    k = k+1\n",
    "    print(\"--------------------------\")\n",
    "    print(\"Execution pour matrice de taille \"+str(2**k)+\" (k=\"+str(k)+\")\")\n",
    "    a = []\n",
    "    b = []\n",
    "    c = []\n",
    "    for i in range(2**k):\n",
    "        a.append(np.random.randint(-9,9,2**k))\n",
    "        b.append(np.random.randint(-9,9,2**k))\n",
    "        c.append(np.zeros(2**k))\n",
    "    a = np.array(a);\n",
    "    b = np.array(b);\n",
    "    c = np.array(b);\n",
    "    start = time.perf_counter()\n",
    "    classic(a,b,c,2**k)\n",
    "    end = time.perf_counter()\n",
    "    print(f\"L'exécution classique a pris {end - start:0.6f} secondes\")\n",
    "    timeClassic = end - start\n",
    "    #start = time.perf_counter()\n",
    "    #strassen(a,b)\n",
    "    #end = time.perf_counter()\n",
    "    #print(f\"L'exécution de strassen a pris {end - start:0.6f} secondes\")\n",
    "    #timeStrassen = end - start\n",
    "    timeStrassen = timeClassic-1\n",
    "print(\"----------------------------\")\n",
    "print(\"Strassen est plus rapide à partir de k=\"+str(k)+\" (matrice de taille \"+str(2**k)+\")\")"
   ]
  },
  {
   "cell_type": "markdown",
   "metadata": {},
   "source": [
    "\n",
    "-   Exsite-t-il des algorithmes plus performant en terme de complexité\n",
    "    pour effectuer le produit de deux matrices ?\n",
    "    \n",
    "    Il existe des algorithmes plus puissants en terme de complexité pour la multiplication de deux matrices (Strassen: O(n<sup>2.807</sup>)):\n",
    "Le coppersmith winograd a une complexité de O(n<sup>2.3737</sup>) tandis qu'un algorithme de Josh Alman atteint une complexité de O(n<sup>2.3728596</sup>) en décembre 2020.\n",
    "\n",
    "    "
   ]
  },
  {
   "cell_type": "code",
   "execution_count": null,
   "metadata": {},
   "outputs": [],
   "source": []
  }
 ],
 "metadata": {
  "kernelspec": {
   "display_name": "Python 3",
   "language": "python",
   "name": "python3"
  },
  "language_info": {
   "codemirror_mode": {
    "name": "ipython",
    "version": 3
   },
   "file_extension": ".py",
   "mimetype": "text/x-python",
   "name": "python",
   "nbconvert_exporter": "python",
   "pygments_lexer": "ipython3",
   "version": "3.8.5"
  }
 },
 "nbformat": 4,
 "nbformat_minor": 2
}
